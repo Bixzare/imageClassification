{
 "cells": [
  {
   "cell_type": "code",
   "execution_count": null,
   "metadata": {
    "vscode": {
     "languageId": "plaintext"
    }
   },
   "outputs": [],
   "source": [
    "from fastapi import FastAPI,File, UploadFile\n",
    "from fastapi.response import JSONResponse\n",
    "app = FastAPI()\n",
    "\n",
    "@app.get(\"/predict/\")\n",
    "\n",
    "async def predict(text: str, file: UploadFile = File(...)):\n",
    "\n",
    "    # Proccess image \n",
    "\n",
    "    return JSONResponse(content = {\"message\":\"Hello World\"})"
   ]
  },
  {
   "cell_type": "code",
   "execution_count": null,
   "metadata": {
    "vscode": {
     "languageId": "plaintext"
    }
   },
   "outputs": [],
   "source": []
  }
 ],
 "metadata": {
  "language_info": {
   "name": "python"
  }
 },
 "nbformat": 4,
 "nbformat_minor": 2
}
